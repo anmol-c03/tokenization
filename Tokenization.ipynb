{
 "cells": [
  {
   "cell_type": "code",
   "execution_count": 1,
   "id": "40503e94-a6ff-4f3e-bc7e-29c5db0ad7f4",
   "metadata": {},
   "outputs": [
    {
     "data": {
      "text/plain": [
       "97"
      ]
     },
     "execution_count": 1,
     "metadata": {},
     "output_type": "execute_result"
    }
   ],
   "source": [
    "ord('a')"
   ]
  },
  {
   "cell_type": "code",
   "execution_count": 2,
   "id": "ca7dedb6-e00d-435e-911b-01c2b3f6c46f",
   "metadata": {},
   "outputs": [
    {
     "data": {
      "text/plain": [
       "[104, 101, 108, 108, 111, 32, 129401]"
      ]
     },
     "execution_count": 2,
     "metadata": {},
     "output_type": "execute_result"
    }
   ],
   "source": [
    "[ord(x) for x in 'hello 🥹']"
   ]
  },
  {
   "cell_type": "code",
   "execution_count": 3,
   "id": "6936fbe4-2f73-4fb3-a418-bd0ab422e90a",
   "metadata": {},
   "outputs": [
    {
     "data": {
      "text/plain": [
       "b'hello \\xf0\\x9f\\xa5\\xb9'"
      ]
     },
     "execution_count": 3,
     "metadata": {},
     "output_type": "execute_result"
    }
   ],
   "source": [
    "'hello 🥹'.encode('utf-8')"
   ]
  },
  {
   "cell_type": "code",
   "execution_count": 4,
   "id": "90b5203e-9fda-4752-8713-0a1ef2e356d2",
   "metadata": {},
   "outputs": [
    {
     "data": {
      "text/plain": [
       "[104, 101, 108, 108, 111, 32, 240, 159, 165, 185]"
      ]
     },
     "execution_count": 4,
     "metadata": {},
     "output_type": "execute_result"
    }
   ],
   "source": [
    "list('hello 🥹'.encode('utf-8'))"
   ]
  },
  {
   "cell_type": "code",
   "execution_count": 5,
   "id": "8e3b3072-a056-4cd1-b883-a875fc321586",
   "metadata": {},
   "outputs": [
    {
     "data": {
      "text/plain": [
       "[255, 254, 104, 0, 101, 0, 108, 0, 108, 0, 111, 0, 32, 0, 62, 216, 121, 221]"
      ]
     },
     "execution_count": 5,
     "metadata": {},
     "output_type": "execute_result"
    }
   ],
   "source": [
    "list('hello 🥹'.encode('utf-16'))"
   ]
  },
  {
   "cell_type": "code",
   "execution_count": 6,
   "id": "09a6be0e-df18-48d1-b39f-376e0e92463e",
   "metadata": {},
   "outputs": [
    {
     "data": {
      "text/plain": [
       "[255,\n",
       " 254,\n",
       " 0,\n",
       " 0,\n",
       " 104,\n",
       " 0,\n",
       " 0,\n",
       " 0,\n",
       " 101,\n",
       " 0,\n",
       " 0,\n",
       " 0,\n",
       " 108,\n",
       " 0,\n",
       " 0,\n",
       " 0,\n",
       " 108,\n",
       " 0,\n",
       " 0,\n",
       " 0,\n",
       " 111,\n",
       " 0,\n",
       " 0,\n",
       " 0,\n",
       " 32,\n",
       " 0,\n",
       " 0,\n",
       " 0,\n",
       " 121,\n",
       " 249,\n",
       " 1,\n",
       " 0]"
      ]
     },
     "execution_count": 6,
     "metadata": {},
     "output_type": "execute_result"
    }
   ],
   "source": [
    "list('hello 🥹'.encode('utf-32'))"
   ]
  },
  {
   "cell_type": "code",
   "execution_count": 7,
   "id": "d81a0e97-95b2-4120-8576-975be67b67c4",
   "metadata": {},
   "outputs": [
    {
     "name": "stdout",
     "output_type": "stream",
     "text": [
      "Ｕｎｉｃｏｄｅ! 🅤🅝🅘🅒🅞🅓🅔‽ 🇺‌🇳‌🇮‌🇨‌🇴‌🇩‌🇪! 😄 The very name strikes fear and awe into the hearts of programmers worldwide. We all know we ought to “support Unicode” in our software (whatever that means—like using wchar_t for all the strings, right?). But Unicode can be abstruse, and diving into the thousand-page Unicode Standard plus its dozens of supplementary annexes, reports, and notes can be more than a little intimidating. I don’t blame programmers for still finding the whole thing mysterious, even 30 years after Unicode’s inception.\n",
      "Number of words 533\n",
      "------------------------------------------------------------------------------------------------------------------------------------------\n",
      "[239, 188, 181, 239, 189, 142, 239, 189, 137, 239, 189, 131, 239, 189, 143, 239, 189, 132, 239, 189, 133, 33, 32, 240, 159, 133, 164, 240, 159, 133, 157, 240, 159, 133, 152, 240, 159, 133, 146, 240, 159, 133, 158, 240, 159, 133, 147, 240, 159, 133, 148, 226, 128, 189, 32, 240, 159, 135, 186, 226, 128, 140, 240, 159, 135, 179, 226, 128, 140, 240, 159, 135, 174, 226, 128, 140, 240, 159, 135, 168, 226, 128, 140, 240, 159, 135, 180, 226, 128, 140, 240, 159, 135, 169, 226, 128, 140, 240, 159, 135, 170, 33, 32, 240, 159, 152, 132, 32, 84, 104, 101, 32, 118, 101, 114, 121, 32, 110, 97, 109, 101, 32, 115, 116, 114, 105, 107, 101, 115, 32, 102, 101, 97, 114, 32, 97, 110, 100, 32, 97, 119, 101, 32, 105, 110, 116, 111, 32, 116, 104, 101, 32, 104, 101, 97, 114, 116, 115, 32, 111, 102, 32, 112, 114, 111, 103, 114, 97, 109, 109, 101, 114, 115, 32, 119, 111, 114, 108, 100, 119, 105, 100, 101, 46, 32, 87, 101, 32, 97, 108, 108, 32, 107, 110, 111, 119, 32, 119, 101, 32, 111, 117, 103, 104, 116, 32, 116, 111, 32, 226, 128, 156, 115, 117, 112, 112, 111, 114, 116, 32, 85, 110, 105, 99, 111, 100, 101, 226, 128, 157, 32, 105, 110, 32, 111, 117, 114, 32, 115, 111, 102, 116, 119, 97, 114, 101, 32, 40, 119, 104, 97, 116, 101, 118, 101, 114, 32, 116, 104, 97, 116, 32, 109, 101, 97, 110, 115, 226, 128, 148, 108, 105, 107, 101, 32, 117, 115, 105, 110, 103, 32, 119, 99, 104, 97, 114, 95, 116, 32, 102, 111, 114, 32, 97, 108, 108, 32, 116, 104, 101, 32, 115, 116, 114, 105, 110, 103, 115, 44, 32, 114, 105, 103, 104, 116, 63, 41, 46, 32, 66, 117, 116, 32, 85, 110, 105, 99, 111, 100, 101, 32, 99, 97, 110, 32, 98, 101, 32, 97, 98, 115, 116, 114, 117, 115, 101, 44, 32, 97, 110, 100, 32, 100, 105, 118, 105, 110, 103, 32, 105, 110, 116, 111, 32, 116, 104, 101, 32, 116, 104, 111, 117, 115, 97, 110, 100, 45, 112, 97, 103, 101, 32, 85, 110, 105, 99, 111, 100, 101, 32, 83, 116, 97, 110, 100, 97, 114, 100, 32, 112, 108, 117, 115, 32, 105, 116, 115, 32, 100, 111, 122, 101, 110, 115, 32, 111, 102, 32, 115, 117, 112, 112, 108, 101, 109, 101, 110, 116, 97, 114, 121, 32, 97, 110, 110, 101, 120, 101, 115, 44, 32, 114, 101, 112, 111, 114, 116, 115, 44, 32, 97, 110, 100, 32, 110, 111, 116, 101, 115, 32, 99, 97, 110, 32, 98, 101, 32, 109, 111, 114, 101, 32, 116, 104, 97, 110, 32, 97, 32, 108, 105, 116, 116, 108, 101, 32, 105, 110, 116, 105, 109, 105, 100, 97, 116, 105, 110, 103, 46, 32, 73, 32, 100, 111, 110, 226, 128, 153, 116, 32, 98, 108, 97, 109, 101, 32, 112, 114, 111, 103, 114, 97, 109, 109, 101, 114, 115, 32, 102, 111, 114, 32, 115, 116, 105, 108, 108, 32, 102, 105, 110, 100, 105, 110, 103, 32, 116, 104, 101, 32, 119, 104, 111, 108, 101, 32, 116, 104, 105, 110, 103, 32, 109, 121, 115, 116, 101, 114, 105, 111, 117, 115, 44, 32, 101, 118, 101, 110, 32, 51, 48, 32, 121, 101, 97, 114, 115, 32, 97, 102, 116, 101, 114, 32, 85, 110, 105, 99, 111, 100, 101, 226, 128, 153, 115, 32, 105, 110, 99, 101, 112, 116, 105, 111, 110, 46]\n",
      "Number of tokens 616\n"
     ]
    }
   ],
   "source": [
    "text = \"Ｕｎｉｃｏｄｅ! 🅤🅝🅘🅒🅞🅓🅔‽ 🇺‌🇳‌🇮‌🇨‌🇴‌🇩‌🇪! 😄 The very name strikes fear and awe into the hearts of programmers worldwide. We all know we ought to “support Unicode” in our software (whatever that means—like using wchar_t for all the strings, right?). But Unicode can be abstruse, and diving into the thousand-page Unicode Standard plus its dozens of supplementary annexes, reports, and notes can be more than a little intimidating. I don’t blame programmers for still finding the whole thing mysterious, even 30 years after Unicode’s inception.\"\n",
    "tokens=text.encode('utf-8')\n",
    "tokens=list(map(int,tokens))\n",
    "print(text)\n",
    "print('Number of words',len(text))\n",
    "print('------------------------------------------------------------------------------------------------------------------------------------------')\n",
    "print(tokens)\n",
    "print(\"Number of tokens\",len(tokens))\n"
   ]
  },
  {
   "cell_type": "code",
   "execution_count": 8,
   "id": "80d8e923-8925-4b0b-ac4c-5dea7fc1756b",
   "metadata": {},
   "outputs": [
    {
     "name": "stdout",
     "output_type": "stream",
     "text": [
      "[(20, (101, 32)), (15, (240, 159)), (12, (226, 128)), (12, (105, 110)), (10, (115, 32)), (10, (97, 110)), (10, (32, 97)), (9, (32, 116)), (8, (116, 104)), (7, (159, 135)), (7, (159, 133)), (7, (97, 114)), (6, (239, 189)), (6, (140, 240)), (6, (128, 140)), (6, (116, 32)), (6, (114, 32)), (6, (111, 114)), (6, (110, 103)), (6, (110, 100)), (6, (109, 101)), (6, (104, 101)), (6, (101, 114)), (6, (32, 105)), (5, (117, 115)), (5, (115, 116)), (5, (110, 32)), (5, (100, 101)), (5, (44, 32)), (5, (32, 115)), (4, (116, 105)), (4, (116, 101)), (4, (115, 44)), (4, (114, 105)), (4, (111, 117)), (4, (111, 100)), (4, (110, 116)), (4, (110, 105)), (4, (105, 99)), (4, (104, 97)), (4, (103, 32)), (4, (101, 97)), (4, (100, 32)), (4, (99, 111)), (4, (97, 109)), (4, (85, 110)), (4, (32, 119)), (4, (32, 111)), (4, (32, 102)), (4, (32, 85)), (3, (118, 101)), (3, (116, 115)), (3, (116, 114)), (3, (116, 111)), (3, (114, 116)), (3, (114, 115)), (3, (114, 101)), (3, (111, 102)), (3, (111, 32)), (3, (108, 108)), (3, (108, 101)), (3, (108, 32)), (3, (101, 115)), (3, (101, 110)), (3, (97, 116)), (3, (46, 32)), (3, (32, 240)), (3, (32, 112)), (3, (32, 109)), (3, (32, 100)), (3, (32, 98)), (2, (128, 153)), (2, (121, 32)), (2, (119, 104)), (2, (119, 101)), (2, (117, 112)), (2, (116, 97)), (2, (115, 117)), (2, (114, 121)), (2, (114, 111)), (2, (114, 97)), (2, (112, 114)), (2, (112, 112)), (2, (112, 111)), (2, (112, 108)), (2, (111, 110)), (2, (111, 103)), (2, (110, 115)), (2, (110, 111)), (2, (109, 109)), (2, (108, 105)), (2, (107, 101)), (2, (105, 116)), (2, (105, 111)), (2, (105, 107)), (2, (105, 100)), (2, (104, 116)), (2, (104, 111)), (2, (103, 114)), (2, (103, 104)), (2, (102, 116)), (2, (102, 111)), (2, (102, 32)), (2, (101, 226)), (2, (101, 118)), (2, (101, 112)), (2, (100, 111)), (2, (100, 105)), (2, (100, 97)), (2, (99, 97)), (2, (98, 101)), (2, (97, 108)), (2, (33, 32)), (2, (32, 114)), (2, (32, 110)), (2, (32, 99)), (1, (239, 188)), (1, (189, 143)), (1, (189, 142)), (1, (189, 137)), (1, (189, 133)), (1, (189, 132)), (1, (189, 131)), (1, (189, 32)), (1, (188, 181)), (1, (186, 226)), (1, (181, 239)), (1, (180, 226)), (1, (179, 226)), (1, (174, 226)), (1, (170, 33)), (1, (169, 226)), (1, (168, 226)), (1, (164, 240)), (1, (159, 152)), (1, (158, 240)), (1, (157, 240)), (1, (157, 32)), (1, (156, 115)), (1, (153, 116)), (1, (153, 115)), (1, (152, 240)), (1, (152, 132)), (1, (148, 226)), (1, (148, 108)), (1, (147, 240)), (1, (146, 240)), (1, (143, 239)), (1, (142, 239)), (1, (137, 239)), (1, (135, 186)), (1, (135, 180)), (1, (135, 179)), (1, (135, 174)), (1, (135, 170)), (1, (135, 169)), (1, (135, 168)), (1, (133, 164)), (1, (133, 158)), (1, (133, 157)), (1, (133, 152)), (1, (133, 148)), (1, (133, 147)), (1, (133, 146)), (1, (133, 33)), (1, (132, 239)), (1, (132, 32)), (1, (131, 239)), (1, (128, 189)), (1, (128, 157)), (1, (128, 156)), (1, (128, 148)), (1, (122, 101)), (1, (121, 115)), (1, (121, 101)), (1, (120, 101)), (1, (119, 111)), (1, (119, 105)), (1, (119, 99)), (1, (119, 97)), (1, (119, 32)), (1, (118, 105)), (1, (117, 116)), (1, (117, 114)), (1, (117, 103)), (1, (116, 119)), (1, (116, 116)), (1, (116, 108)), (1, (116, 63)), (1, (115, 226)), (1, (115, 111)), (1, (115, 105)), (1, (115, 101)), (1, (115, 97)), (1, (114, 117)), (1, (114, 108)), (1, (114, 100)), (1, (114, 95)), (1, (112, 116)), (1, (112, 97)), (1, (111, 122)), (1, (111, 119)), (1, (111, 116)), (1, (111, 108)), (1, (110, 226)), (1, (110, 110)), (1, (110, 101)), (1, (110, 99)), (1, (110, 97)), (1, (110, 46)), (1, (109, 121)), (1, (109, 111)), (1, (109, 105)), (1, (108, 117)), (1, (108, 100)), (1, (108, 97)), (1, (107, 110)), (1, (105, 118)), (1, (105, 109)), (1, (105, 108)), (1, (105, 103)), (1, (104, 105)), (1, (103, 115)), (1, (103, 101)), (1, (103, 46)), (1, (102, 105)), (1, (102, 101)), (1, (101, 120)), (1, (101, 109)), (1, (101, 46)), (1, (101, 44)), (1, (100, 119)), (1, (100, 45)), (1, (99, 104)), (1, (99, 101)), (1, (98, 115)), (1, (98, 108)), (1, (97, 119)), (1, (97, 103)), (1, (97, 102)), (1, (97, 98)), (1, (97, 32)), (1, (95, 116)), (1, (87, 101)), (1, (84, 104)), (1, (83, 116)), (1, (73, 32)), (1, (66, 117)), (1, (63, 41)), (1, (51, 48)), (1, (48, 32)), (1, (45, 112)), (1, (41, 46)), (1, (40, 119)), (1, (32, 226)), (1, (32, 121)), (1, (32, 118)), (1, (32, 117)), (1, (32, 108)), (1, (32, 107)), (1, (32, 104)), (1, (32, 101)), (1, (32, 87)), (1, (32, 84)), (1, (32, 83)), (1, (32, 73)), (1, (32, 66)), (1, (32, 51)), (1, (32, 40))]\n"
     ]
    }
   ],
   "source": [
    "def get_stats(tokens):\n",
    "    count=dict()\n",
    "    for consec in zip(tokens,tokens[1:]):\n",
    "        count[consec]=count.get(consec,0)+1\n",
    "    return count\n",
    "\n",
    "stats=get_stats(tokens)\n",
    "print(sorted([(v,k)  for k,v in stats.items()],reverse=True))"
   ]
  },
  {
   "cell_type": "code",
   "execution_count": 9,
   "id": "0cb38ead-8160-42a7-87af-929ed7899acd",
   "metadata": {},
   "outputs": [
    {
     "data": {
      "text/plain": [
       "('h', ' ')"
      ]
     },
     "execution_count": 9,
     "metadata": {},
     "output_type": "execute_result"
    }
   ],
   "source": [
    "chr(104),chr(32)"
   ]
  },
  {
   "cell_type": "code",
   "execution_count": 22,
   "id": "22c1d3f6-98e3-44ba-80bd-e431cdf8dfae",
   "metadata": {},
   "outputs": [
    {
     "data": {
      "text/plain": [
       "(239, 188)"
      ]
     },
     "execution_count": 22,
     "metadata": {},
     "output_type": "execute_result"
    }
   ],
   "source": [
    "a={(239, 188): 7, (188, 181): 6, (181, 239):5 }\n",
    "b={(114, 111): 57,\n",
    " (188, 181): 23,\n",
    " (181, 239): 25}\n",
    "max(a,key=a.get)\n",
    "# top_pair=min(a,key= lambda p:b.get(p,float('inf')))\n",
    "# top_pair"
   ]
  },
  {
   "cell_type": "code",
   "execution_count": 11,
   "id": "9a0fd155-c613-4aa3-bd95-d55838d31aba",
   "metadata": {},
   "outputs": [
    {
     "data": {
      "text/plain": [
       "[2, 8, 5, 6, 8]"
      ]
     },
     "execution_count": 11,
     "metadata": {},
     "output_type": "execute_result"
    }
   ],
   "source": [
    "def replace(ids,pair,idx):\n",
    "    newids=[]\n",
    "    i=0\n",
    "    while i<len(ids):\n",
    "        if i<len(ids)-1 and pair[0]==ids[i] and pair[1]==ids[i+1]:\n",
    "            newids.append(idx)\n",
    "            i+=2\n",
    "        else:\n",
    "            newids.append(ids[i])\n",
    "            i+=1\n",
    "    return newids\n",
    "\n",
    "replace([2,3,4,5,6,3,4],(3,4),8)"
   ]
  },
  {
   "cell_type": "code",
   "execution_count": 102,
   "id": "dbc0835f-f8a5-412f-a2cb-c5213b519581",
   "metadata": {},
   "outputs": [],
   "source": [
    "# making the training text longer to have more representative token statistics\n",
    "# text from https://www.reedbeta.com/blog/programmers-intro-to-unicode/\n",
    "text = \"\"\"A Programmer’s Introduction to Unicode March 3, 2017 · Coding · 22 Comments  Ｕｎｉｃｏｄｅ! 🅤🅝🅘🅒🅞🅓🅔‽ 🇺\\u200c🇳\\u200c🇮\\u200c🇨\\u200c🇴\\u200c🇩\\u200c🇪! 😄 The very name strikes fear and awe into the hearts of programmers worldwide. We all know we ought to “support Unicode” in our software (whatever that means—like using wchar_t for all the strings, right?). But Unicode can be abstruse, and diving into the thousand-page Unicode Standard plus its dozens of supplementary annexes, reports, and notes can be more than a little intimidating. I don’t blame programmers for still finding the whole thing mysterious, even 30 years after Unicode’s inception.  A few months ago, I got interested in Unicode and decided to spend some time learning more about it in detail. In this article, I’ll give an introduction to it from a programmer’s point of view.  I’m going to focus on the character set and what’s involved in working with strings and files of Unicode text. However, in this article I’m not going to talk about fonts, text layout/shaping/rendering, or localization in detail—those are separate issues, beyond my scope (and knowledge) here.  Diversity and Inherent Complexity The Unicode Codespace Codespace Allocation Scripts Usage Frequency Encodings UTF-8 UTF-16 Combining Marks Canonical Equivalence Normalization Forms Grapheme Clusters And More… Diversity and Inherent Complexity As soon as you start to study Unicode, it becomes clear that it represents a large jump in complexity over character sets like ASCII that you may be more familiar with. It’s not just that Unicode contains a much larger number of characters, although that’s part of it. Unicode also has a great deal of internal structure, features, and special cases, making it much more than what one might expect a mere “character set” to be. We’ll see some of that later in this article.  When confronting all this complexity, especially as an engineer, it’s hard not to find oneself asking, “Why do we need all this? Is this really necessary? Couldn’t it be simplified?”  However, Unicode aims to faithfully represent the entire world’s writing systems. The Unicode Consortium’s stated goal is “enabling people around the world to use computers in any language”. And as you might imagine, the diversity of written languages is immense! To date, Unicode supports 135 different scripts, covering some 1100 languages, and there’s still a long tail of over 100 unsupported scripts, both modern and historical, which people are still working to add.  Given this enormous diversity, it’s inevitable that representing it is a complicated project. Unicode embraces that diversity, and accepts the complexity inherent in its mission to include all human writing systems. It doesn’t make a lot of trade-offs in the name of simplification, and it makes exceptions to its own rules where necessary to further its mission.  Moreover, Unicode is committed not just to supporting texts in any single language, but also to letting multiple languages coexist within one text—which introduces even more complexity.  Most programming languages have libraries available to handle the gory low-level details of text manipulation, but as a programmer, you’ll still need to know about certain Unicode features in order to know when and how to apply them. It may take some time to wrap your head around it all, but don’t be discouraged—think about the billions of people for whom your software will be more accessible through supporting text in their language. Embrace the complexity!  The Unicode Codespace Let’s start with some general orientation. The basic elements of Unicode—its “characters”, although that term isn’t quite right—are called code points. Code points are identified by number, customarily written in hexadecimal with the prefix “U+”, such as U+0041 “A” latin capital letter a or U+03B8 “θ” greek small letter theta. Each code point also has a short name, and quite a few other properties, specified in the Unicode Character Database.  The set of all possible code points is called the codespace. The Unicode codespace consists of 1,114,112 code points. However, only 128,237 of them—about 12% of the codespace—are actually assigned, to date. There’s plenty of room for growth! Unicode also reserves an additional 137,468 code points as “private use” areas, which have no standardized meaning and are available for individual applications to define for their own purposes.  Codespace Allocation To get a feel for how the codespace is laid out, it’s helpful to visualize it. Below is a map of the entire codespace, with one pixel per code point. It’s arranged in tiles for visual coherence; each small square is 16×16 = 256 code points, and each large square is a “plane” of 65,536 code points. There are 17 planes altogether.  Map of the Unicode codespace (click to zoom)  White represents unassigned space. Blue is assigned code points, green is private-use areas, and the small red area is surrogates (more about those later). As you can see, the assigned code points are distributed somewhat sparsely, but concentrated in the first three planes.  Plane 0 is also known as the “Basic Multilingual Plane”, or BMP. The BMP contains essentially all the characters needed for modern text in any script, including Latin, Cyrillic, Greek, Han (Chinese), Japanese, Korean, Arabic, Hebrew, Devanagari (Indian), and many more.  (In the past, the codespace was just the BMP and no more—Unicode was originally conceived as a straightforward 16-bit encoding, with only 65,536 code points. It was expanded to its current size in 1996. However, the vast majority of code points in modern text belong to the BMP.)  Plane 1 contains historical scripts, such as Sumerian cuneiform and Egyptian hieroglyphs, as well as emoji and various other symbols. Plane 2 contains a large block of less-common and historical Han characters. The remaining planes are empty, except for a small number of rarely-used formatting characters in Plane 14; planes 15–16 are reserved entirely for private use.  Scripts Let’s zoom in on the first three planes, since that’s where the action is:  Map of scripts in Unicode planes 0–2 (click to zoom)  This map color-codes the 135 different scripts in Unicode. You can see how Han () and Korean () take up most of the range of the BMP (the left large square). By contrast, all of the European, Middle Eastern, and South Asian scripts fit into the first row of the BMP in this diagram.  Many areas of the codespace are adapted or copied from earlier encodings. For example, the first 128 code points of Unicode are just a copy of ASCII. This has clear benefits for compatibility—it’s easy to losslessly convert texts from smaller encodings into Unicode (and the other direction too, as long as no characters outside the smaller encoding are used).  Usage Frequency One more interesting way to visualize the codespace is to look at the distribution of usage—in other words, how often each code point is actually used in real-world texts. Below is a heat map of planes 0–2 based on a large sample of text from Wikipedia and Twitter (all languages). Frequency increases from black (never seen) through red and yellow to white.  Heat map of code point usage frequency in Unicode planes 0–2 (click to zoom)  You can see that the vast majority of this text sample lies in the BMP, with only scattered usage of code points from planes 1–2. The biggest exception is emoji, which show up here as the several bright squares in the bottom row of plane 1.  Encodings We’ve seen that Unicode code points are abstractly identified by their index in the codespace, ranging from U+0000 to U+10FFFF. But how do code points get represented as bytes, in memory or in a file?  The most convenient, computer-friendliest (and programmer-friendliest) thing to do would be to just store the code point index as a 32-bit integer. This works, but it consumes 4 bytes per code point, which is sort of a lot. Using 32-bit ints for Unicode will cost you a bunch of extra storage, memory, and performance in bandwidth-bound scenarios, if you work with a lot of text.  Consequently, there are several more-compact encodings for Unicode. The 32-bit integer encoding is officially called UTF-32 (UTF = “Unicode Transformation Format”), but it’s rarely used for storage. At most, it comes up sometimes as a temporary internal representation, for examining or operating on the code points in a string.  Much more commonly, you’ll see Unicode text encoded as either UTF-8 or UTF-16. These are both variable-length encodings, made up of 8-bit or 16-bit units, respectively. In these schemes, code points with smaller index values take up fewer bytes, which saves a lot of memory for typical texts. The trade-off is that processing UTF-8/16 texts is more programmatically involved, and likely slower.  UTF-8 In UTF-8, each code point is stored using 1 to 4 bytes, based on its index value.  UTF-8 uses a system of binary prefixes, in which the high bits of each byte mark whether it’s a single byte, the beginning of a multi-byte sequence, or a continuation byte; the remaining bits, concatenated, give the code point index. This table shows how it works:  UTF-8 (binary)\\tCode point (binary)\\tRange 0xxxxxxx\\txxxxxxx\\tU+0000–U+007F 110xxxxx 10yyyyyy\\txxxxxyyyyyy\\tU+0080–U+07FF 1110xxxx 10yyyyyy 10zzzzzz\\txxxxyyyyyyzzzzzz\\tU+0800–U+FFFF 11110xxx 10yyyyyy 10zzzzzz 10wwwwww\\txxxyyyyyyzzzzzzwwwwww\\tU+10000–U+10FFFF A handy property of UTF-8 is that code points below 128 (ASCII characters) are encoded as single bytes, and all non-ASCII code points are encoded using sequences of bytes 128–255. This has a couple of nice consequences. First, any strings or files out there that are already in ASCII can also be interpreted as UTF-8 without any conversion. Second, lots of widely-used string programming idioms—such as null termination, or delimiters (newlines, tabs, commas, slashes, etc.)—will just work on UTF-8 strings. ASCII bytes never occur inside the encoding of non-ASCII code points, so searching byte-wise for a null terminator or a delimiter will do the right thing.  Thanks to this convenience, it’s relatively simple to extend legacy ASCII programs and APIs to handle UTF-8 strings. UTF-8 is very widely used in the Unix/Linux and Web worlds, and many programmers argue UTF-8 should be the default encoding everywhere.  However, UTF-8 isn’t a drop-in replacement for ASCII strings in all respects. For instance, code that iterates over the “characters” in a string will need to decode UTF-8 and iterate over code points (or maybe grapheme clusters—more about those later), not bytes. When you measure the “length” of a string, you’ll need to think about whether you want the length in bytes, the length in code points, the width of the text when rendered, or something else.  UTF-16 The other encoding that you’re likely to encounter is UTF-16. It uses 16-bit words, with each code point stored as either 1 or 2 words.  Like UTF-8, we can express the UTF-16 encoding rules in the form of binary prefixes:  UTF-16 (binary)\\tCode point (binary)\\tRange xxxxxxxxxxxxxxxx\\txxxxxxxxxxxxxxxx\\tU+0000–U+FFFF 110110xxxxxxxxxx 110111yyyyyyyyyy\\txxxxxxxxxxyyyyyyyyyy + 0x10000\\tU+10000–U+10FFFF A more common way that people talk about UTF-16 encoding, though, is in terms of code points called “surrogates”. All the code points in the range U+D800–U+DFFF—or in other words, the code points that match the binary prefixes 110110 and 110111 in the table above—are reserved specifically for UTF-16 encoding, and don’t represent any valid characters on their own. They’re only meant to occur in the 2-word encoding pattern above, which is called a “surrogate pair”. Surrogate code points are illegal in any other context! They’re not allowed in UTF-8 or UTF-32 at all.  Historically, UTF-16 is a descendant of the original, pre-1996 versions of Unicode, in which there were only 65,536 code points. The original intention was that there would be no different “encodings”; Unicode was supposed to be a straightforward 16-bit character set. Later, the codespace was expanded to make room for a long tail of less-common (but still important) Han characters, which the Unicode designers didn’t originally plan for. Surrogates were then introduced, as—to put it bluntly—a kludge, allowing 16-bit encodings to access the new code points.  Today, Javascript uses UTF-16 as its standard string representation: if you ask for the length of a string, or iterate over it, etc., the result will be in UTF-16 words, with any code points outside the BMP expressed as surrogate pairs. UTF-16 is also used by the Microsoft Win32 APIs; though Win32 supports either 8-bit or 16-bit strings, the 8-bit version unaccountably still doesn’t support UTF-8—only legacy code-page encodings, like ANSI. This leaves UTF-16 as the only way to get proper Unicode support in Windows. (Update: in Win10 version 1903, they finally added UTF-8 support to the 8-bit APIs! 😊)  By the way, UTF-16’s words can be stored either little-endian or big-endian. Unicode has no opinion on that issue, though it does encourage the convention of putting U+FEFF zero width no-break space at the top of a UTF-16 file as a byte-order mark, to disambiguate the endianness. (If the file doesn’t match the system’s endianness, the BOM will be decoded as U+FFFE, which isn’t a valid code point.)  Combining Marks In the story so far, we’ve been focusing on code points. But in Unicode, a “character” can be more complicated than just an individual code point!  Unicode includes a system for dynamically composing characters, by combining multiple code points together. This is used in various ways to gain flexibility without causing a huge combinatorial explosion in the number of code points.  In European languages, for example, this shows up in the application of diacritics to letters. Unicode supports a wide range of diacritics, including acute and grave accents, umlauts, cedillas, and many more. All these diacritics can be applied to any letter of any alphabet—and in fact, multiple diacritics can be used on a single letter.  If Unicode tried to assign a distinct code point to every possible combination of letter and diacritics, things would rapidly get out of hand. Instead, the dynamic composition system enables you to construct the character you want, by starting with a base code point (the letter) and appending additional code points, called “combining marks”, to specify the diacritics. When a text renderer sees a sequence like this in a string, it automatically stacks the diacritics over or under the base letter to create a composed character.  For example, the accented character “Á” can be expressed as a string of two code points: U+0041 “A” latin capital letter a plus U+0301 “◌́” combining acute accent. This string automatically gets rendered as a single character: “Á”.  Now, Unicode does also include many “precomposed” code points, each representing a letter with some combination of diacritics already applied, such as U+00C1 “Á” latin capital letter a with acute or U+1EC7 “ệ” latin small letter e with circumflex and dot below. I suspect these are mostly inherited from older encodings that were assimilated into Unicode, and kept around for compatibility. In practice, there are precomposed code points for most of the common letter-with-diacritic combinations in European-script languages, so they don’t use dynamic composition that much in typical text.  Still, the system of combining marks does allow for an arbitrary number of diacritics to be stacked on any base character. The reductio-ad-absurdum of this is Zalgo text, which works by ͖͟ͅr͞aṋ̫̠̖͈̗d͖̻̹óm̪͙͕̗̝ļ͇̰͓̳̫ý͓̥̟͍ ̕s̫t̫̱͕̗̰̼̘͜a̼̩͖͇̠͈̣͝c̙͍k̖̱̹͍͘i̢n̨̺̝͇͇̟͙ģ̫̮͎̻̟ͅ ̕n̼̺͈͞u̮͙m̺̭̟̗͞e̞͓̰̤͓̫r̵o̖ṷs҉̪͍̭̬̝̤ ̮͉̝̞̗̟͠d̴̟̜̱͕͚i͇̫̼̯̭̜͡ḁ͙̻̼c̲̲̹r̨̠̹̣̰̦i̱t̤̻̤͍͙̘̕i̵̜̭̤̱͎c̵s ͘o̱̲͈̙͖͇̲͢n͘ ̜͈e̬̲̠̩ac͕̺̠͉h̷̪ ̺̣͖̱ḻ̫̬̝̹ḙ̙̺͙̭͓̲t̞̞͇̲͉͍t̷͔̪͉̲̻̠͙e̦̻͈͉͇r͇̭̭̬͖,̖́ ̜͙͓̣̭s̘̘͈o̱̰̤̲ͅ ̛̬̜̙t̼̦͕̱̹͕̥h̳̲͈͝ͅa̦t̻̲ ̻̟̭̦̖t̛̰̩h̠͕̳̝̫͕e͈̤̘͖̞͘y҉̝͙ ̷͉͔̰̠o̞̰v͈͈̳̘͜er̶f̰͈͔ḻ͕̘̫̺̲o̲̭͙͠ͅw̱̳̺ ͜t̸h͇̭͕̳͍e̖̯̟̠ ͍̞̜͔̩̪͜ļ͎̪̲͚i̝̲̹̙̩̹n̨̦̩̖ḙ̼̲̼͢ͅ ̬͝s̼͚̘̞͝p͙̘̻a̙c҉͉̜̤͈̯̖i̥͡n̦̠̱͟g̸̗̻̦̭̮̟ͅ ̳̪̠͖̳̯̕a̫͜n͝d͡ ̣̦̙ͅc̪̗r̴͙̮̦̹̳e͇͚̞͔̹̫͟a̙̺̙ț͔͎̘̹ͅe̥̩͍ a͖̪̜̮͙̹n̢͉̝ ͇͉͓̦̼́a̳͖̪̤̱p̖͔͔̟͇͎͠p̱͍̺ę̲͎͈̰̲̤̫a̯͜r̨̮̫̣̘a̩̯͖n̹̦̰͎̣̞̞c̨̦̱͔͎͍͖e̬͓͘ ̤̰̩͙̤̬͙o̵̼̻̬̻͇̮̪f̴ ̡̙̭͓͖̪̤“̸͙̠̼c̳̗͜o͏̼͙͔̮r̞̫̺̞̥̬ru̺̻̯͉̭̻̯p̰̥͓̣̫̙̤͢t̳͍̳̖ͅi̶͈̝͙̼̙̹o̡͔n̙̺̹̖̩͝ͅ”̨̗͖͚̩.̯͓  A few other places where dynamic character composition shows up in Unicode:  Vowel-pointing notation in Arabic and Hebrew. In these languages, words are normally spelled with some of their vowels left out. They then have diacritic notation to indicate the vowels (used in dictionaries, language-teaching materials, children’s books, and such). These diacritics are expressed with combining marks.  A Hebrew example, with niqqud:\\tאֶת דַלְתִּי הֵזִיז הֵנִיעַ, קֶטֶב לִשְׁכַּתִּי יָשׁוֹד Normal writing (no niqqud):\\tאת דלתי הזיז הניע, קטב לשכתי ישוד Devanagari, the script used to write Hindi, Sanskrit, and many other South Asian languages, expresses certain vowels as combining marks attached to consonant letters. For example, “ह” + “\\u200bि” = “हि” (“h” + “i” = “hi”). Korean characters stand for syllables, but they are composed of letters called jamo that stand for the vowels and consonants in the syllable. While there are code points for precomposed Korean syllables, it’s also possible to dynamically compose them by concatenating their jamo. For example, “ᄒ” + “ᅡ” + “ᆫ” = “한” (“h” + “a” + “n” = “han”). Canonical Equivalence In Unicode, precomposed characters exist alongside the dynamic composition system. A consequence of this is that there are multiple ways to express “the same” string—different sequences of code points that result in the same user-perceived characters. For example, as we saw earlier, we can express the character “Á” either as the single code point U+00C1, or as the string of two code points U+0041 U+0301.  Another source of ambiguity is the ordering of multiple diacritics in a single character. Diacritic order matters visually when two diacritics apply to the same side of the base character, e.g. both above: “ǡ” (dot, then macron) is different from “ā̇” (macron, then dot). However, when diacritics apply to different sides of the character, e.g. one above and one below, then the order doesn’t affect rendering. Moreover, a character with multiple diacritics might have one of the diacritics precomposed and others expressed as combining marks.  For example, the Vietnamese letter “ệ” can be expressed in five different ways:  Fully precomposed: U+1EC7 “ệ” Partially precomposed: U+1EB9 “ẹ” + U+0302 “◌̂” Partially precomposed: U+00EA “ê” + U+0323 “◌̣” Fully decomposed: U+0065 “e” + U+0323 “◌̣” + U+0302 “◌̂” Fully decomposed: U+0065 “e” + U+0302 “◌̂” + U+0323 “◌̣” Unicode refers to set of strings like this as “canonically equivalent”. Canonically equivalent strings are supposed to be treated as identical for purposes of searching, sorting, rendering, text selection, and so on. This has implications for how you implement operations on text. For example, if an app has a “find in file” operation and the user searches for “ệ”, it should, by default, find occurrences of any of the five versions of “ệ” above!  Normalization Forms To address the problem of “how to handle canonically equivalent strings”, Unicode defines several normalization forms: ways of converting strings into a canonical form so that they can be compared code-point-by-code-point (or byte-by-byte).  The “NFD” normalization form fully decomposes every character down to its component base and combining marks, taking apart any precomposed code points in the string. It also sorts the combining marks in each character according to their rendered position, so e.g. diacritics that go below the character come before the ones that go above the character. (It doesn’t reorder diacritics in the same rendered position, since their order matters visually, as previously mentioned.)  The “NFC” form, conversely, puts things back together into precomposed code points as much as possible. If an unusual combination of diacritics is called for, there may not be any precomposed code point for it, in which case NFC still precomposes what it can and leaves any remaining combining marks in place (again ordered by rendered position, as in NFD).  There are also forms called NFKD and NFKC. The “K” here refers to compatibility decompositions, which cover characters that are “similar” in some sense but not visually identical. However, I’m not going to cover that here.  Grapheme Clusters As we’ve seen, Unicode contains various cases where a thing that a user thinks of as a single “character” might actually be made up of multiple code points under the hood. Unicode formalizes this using the notion of a grapheme cluster: a string of one or more code points that constitute a single “user-perceived character”.  UAX #29 defines the rules for what, precisely, qualifies as a grapheme cluster. It’s approximately “a base code point followed by any number of combining marks”, but the actual definition is a bit more complicated; it accounts for things like Korean jamo, and emoji ZWJ sequences.  The main thing grapheme clusters are used for is text editing: they’re often the most sensible unit for cursor placement and text selection boundaries. Using grapheme clusters for these purposes ensures that you can’t accidentally chop off some diacritics when you copy-and-paste text, that left/right arrow keys always move the cursor by one visible character, and so on.  Another place where grapheme clusters are useful is in enforcing a string length limit—say, on a database field. While the true, underlying limit might be something like the byte length of the string in UTF-8, you wouldn’t want to enforce that by just truncating bytes. At a minimum, you’d want to “round down” to the nearest code point boundary; but even better, round down to the nearest grapheme cluster boundary. Otherwise, you might be corrupting the last character by cutting off a diacritic, or interrupting a jamo sequence or ZWJ sequence.  And More… There’s much more that could be said about Unicode from a programmer’s perspective! I haven’t gotten into such fun topics as case mapping, collation, compatibility decompositions and confusables, Unicode-aware regexes, or bidirectional text. Nor have I said anything yet about implementation issues—how to efficiently store and look-up data about the sparsely-assigned code points, or how to optimize UTF-8 decoding, string comparison, or NFC normalization. Perhaps I’ll return to some of those things in future posts.  Unicode is a fascinating and complex system. It has a many-to-one mapping between bytes and code points, and on top of that a many-to-one (or, under some circumstances, many-to-many) mapping between code points and “characters”. It has oddball special cases in every corner. But no one ever claimed that representing all written languages was going to be easy, and it’s clear that we’re never going back to the bad old days of a patchwork of incompatible encodings.  Further reading:  The Unicode Standard UTF-8 Everywhere Manifesto Dark corners of Unicode by Eevee ICU (International Components for Unicode)—C/C++/Java libraries implementing many Unicode algorithms and related things Python 3 Unicode Howto Google Noto Fonts—set of fonts intended to cover all assigned code points\"\"\"\n",
    "tokens = text.encode(\"utf-8\") # raw bytes\n",
    "tokens = list(map(int, tokens)) # convert to a list of integers in range 0..255 for convenience"
   ]
  },
  {
   "cell_type": "code",
   "execution_count": 104,
   "id": "d349c372-daa6-40a2-97e4-3de73babc60e",
   "metadata": {},
   "outputs": [
    {
     "name": "stdout",
     "output_type": "stream",
     "text": [
      "(101, 32)  merges to  256\n",
      "(105, 110)  merges to  257\n",
      "(115, 32)  merges to  258\n",
      "(116, 104)  merges to  259\n",
      "(101, 114)  merges to  260\n",
      "(99, 111)  merges to  261\n",
      "(116, 32)  merges to  262\n",
      "(226, 128)  merges to  263\n",
      "(44, 32)  merges to  264\n",
      "(97, 110)  merges to  265\n",
      "(111, 114)  merges to  266\n",
      "(100, 32)  merges to  267\n",
      "(97, 114)  merges to  268\n",
      "(101, 110)  merges to  269\n",
      "(257, 103)  merges to  270\n",
      "(261, 100)  merges to  271\n",
      "(121, 32)  merges to  272\n",
      "(46, 32)  merges to  273\n",
      "(97, 108)  merges to  274\n",
      "(259, 256)  merges to  275\n"
     ]
    }
   ],
   "source": [
    "def get_stats(tokens):\n",
    "    count={}\n",
    "    for pair in zip(tokens,tokens[1:]):\n",
    "        count[pair]=count.get(pair,0)+1\n",
    "    return count\n",
    "\n",
    "def merge(ids,pair,idx):\n",
    "    newids=[]\n",
    "    i=0\n",
    "    while i<len(ids):\n",
    "        if i<len(ids)-1 and pair[0]==ids[i] and pair[1]==ids[i+1]:\n",
    "            newids.append(idx)\n",
    "            i+=2\n",
    "        else:\n",
    "            newids.append(ids[i])\n",
    "            i+=1\n",
    "    return newids\n",
    "\n",
    "vocab_size=276\n",
    "num_merges=vocab_size-256\n",
    "\n",
    "ids=list(tokens)\n",
    "\n",
    "merges={}\n",
    "for k in range(num_merges):\n",
    "    stats=get_stats(ids)\n",
    "    idx=256+k\n",
    "    top_pair=max(stats,key=stats.get)\n",
    "    print(top_pair,' merges to ',idx)\n",
    "    ids=merge(ids,top_pair,idx)\n",
    "    merges[top_pair]=idx\n"
   ]
  },
  {
   "cell_type": "code",
   "execution_count": 14,
   "id": "175dda38-0e7a-44d1-8de1-3e77c48010bd",
   "metadata": {},
   "outputs": [
    {
     "name": "stdout",
     "output_type": "stream",
     "text": [
      "total number of tokens 24597\n",
      "total number of  tokens after merging 19438\n",
      "compression ration 1.2654\n"
     ]
    }
   ],
   "source": [
    "print('total number of tokens',len(tokens))\n",
    "print('total number of  tokens after merging',len(ids))\n",
    "print(f'compression ration {len(tokens)/len(ids) :.4f}')"
   ]
  },
  {
   "cell_type": "markdown",
   "id": "90fec9d7-06ae-44bd-80ab-773e0cff0fe6",
   "metadata": {},
   "source": [
    "# decoding tokens to raw text"
   ]
  },
  {
   "cell_type": "code",
   "execution_count": 71,
   "id": "77fcac13-df91-4bd8-8990-c6fa0c489302",
   "metadata": {},
   "outputs": [
    {
     "name": "stdout",
     "output_type": "stream",
     "text": [
      "\\u000c\n"
     ]
    }
   ],
   "source": [
    "from unicodedata import category\n",
    "vocab={idx:bytes([idx]) for idx in range(256)}\n",
    "for (p0,p1),idx in merges.items():\n",
    "    vocab[idx]=vocab[p0]+vocab[p1]\n",
    "\n",
    "def replace_controlchar(s):\n",
    "    char=[]\n",
    "    for ch in s:\n",
    "        if category(ch)[0]!='C':\n",
    "            char.append(ch)\n",
    "        else:\n",
    "            char.append(f\"\\\\u{ord(ch):04x}\")\n",
    "    return ''.join(char)\n",
    "    \n",
    "def decode(tokens):\n",
    "    idx_text=b''.join(vocab[idx] for idx in tokens)\n",
    "    raw_text=idx_text.decode('utf-8',errors='replace')\n",
    "    raw_text=replace_controlchar(raw_text)\n",
    "    return raw_text\n",
    "    \n",
    "text=decode([12])\n",
    "print(text)"
   ]
  },
  {
   "cell_type": "code",
   "execution_count": 16,
   "id": "3b73818c-7ea2-4e59-a810-dc993ab56ed3",
   "metadata": {},
   "outputs": [
    {
     "data": {
      "text/plain": [
       "{(101, 32): 256,\n",
       " (105, 110): 257,\n",
       " (115, 32): 258,\n",
       " (116, 104): 259,\n",
       " (101, 114): 260,\n",
       " (99, 111): 261,\n",
       " (116, 32): 262,\n",
       " (226, 128): 263,\n",
       " (44, 32): 264,\n",
       " (97, 110): 265,\n",
       " (111, 114): 266,\n",
       " (100, 32): 267,\n",
       " (97, 114): 268,\n",
       " (101, 110): 269,\n",
       " (257, 103): 270,\n",
       " (261, 100): 271,\n",
       " (121, 32): 272,\n",
       " (46, 32): 273,\n",
       " (97, 108): 274,\n",
       " (259, 256): 275}"
      ]
     },
     "execution_count": 16,
     "metadata": {},
     "output_type": "execute_result"
    }
   ],
   "source": [
    "merges"
   ]
  },
  {
   "cell_type": "code",
   "execution_count": 19,
   "id": "113e6796-27ce-4089-8b77-250ccaf9bc98",
   "metadata": {},
   "outputs": [
    {
     "name": "stdout",
     "output_type": "stream",
     "text": [
      "hello world\n"
     ]
    }
   ],
   "source": [
    "def encode(data):\n",
    "    tokens=list(map(int,data.encode('utf-8')))\n",
    "    while len(data)>=2:\n",
    "        stats=get_stats(tokens)\n",
    "        pair=min(stats,key= lambda p : merges.get(p,float('inf')))\n",
    "        if pair not in merges:\n",
    "            break\n",
    "        idx=merges[pair]\n",
    "        tokens=replace(tokens,pair,idx)\n",
    "    return tokens\n",
    "\n",
    "print(decode(encode('hello world')))"
   ]
  },
  {
   "cell_type": "code",
   "execution_count": null,
   "id": "b1842bf5-1bd9-4f88-93a8-918f1b972bc5",
   "metadata": {},
   "outputs": [],
   "source": [
    "text2=decode(encode(text))\n",
    "print(text2==text)"
   ]
  },
  {
   "cell_type": "code",
   "execution_count": null,
   "id": "7d7acfb0-a822-431d-9528-51fa14cf0737",
   "metadata": {},
   "outputs": [],
   "source": [
    "import re\n",
    "\n",
    "pattern = r'<.*?>'\n",
    "text = \"<div> Hello</div><div>World</div>\"\n",
    "matches = re.findall(pattern, text)\n",
    "\n",
    "print(matches)  # Output: ['<div>', '</div>', '<div>', '</div>']\n"
   ]
  },
  {
   "cell_type": "code",
   "execution_count": 9,
   "id": "22f46578-9e3a-4bbd-946a-6aa5e9273a9b",
   "metadata": {},
   "outputs": [
    {
     "name": "stdout",
     "output_type": "stream",
     "text": [
      "tokens [[104, 101, 108, 108, 111], [39, 118, 101], [32, 104, 101, 108, 108]]\n",
      "{(104, 101): 2, (101, 108): 2, (108, 108): 2, (108, 111): 1, (39, 118): 1, (118, 101): 1, (32, 104): 1}\n",
      "pair (104, 101)\n",
      "ids [[256, 108, 108, 111], [39, 118, 101], [32, 256, 108, 108]]\n"
     ]
    }
   ],
   "source": [
    "import regex as re\n",
    "def get_stats(ids,counts=None):\n",
    "    counts={} if counts is None else counts\n",
    "    for pair in zip(ids,ids[1:]):\n",
    "        counts[pair]=counts.get(pair,0)+1\n",
    "    return counts\n",
    "\n",
    "gpt2pat = re.compile(r\"\"\"'s|'t|'re|'ve|'m|'ll|'d| ?\\p{L}+| ?\\p{N}+| ?[^\\s\\p{L}\\p{N}]+|\\s+(?!\\S)|\\s+\"\"\")\n",
    "text_chunk=re.findall(gpt2pat, \"hello've hell\")\n",
    "tokens=[list(chunk.encode('utf-8')) for chunk in text_chunk]\n",
    "merges = {} # (int, int) -> int\n",
    "for i in range(10):\n",
    "    stats = {}\n",
    "    for chunk_ids in tokens:\n",
    "        get_stats(chunk_ids, stats)\n",
    "    print(stats)\n",
    "    pair = max(stats, key=stats.get)\n",
    "    idx = 256 + i\n",
    "    print('pair',pair)\n",
    "    ids = [merge(chunk_ids, pair, idx) for chunk_ids in tokens]\n",
    "    print('ids',ids)\n",
    "    merges[pair] = idx\n"
   ]
  },
  {
   "cell_type": "code",
   "execution_count": null,
   "id": "08938ec4-9cd5-4069-836d-be150399b532",
   "metadata": {},
   "outputs": [],
   "source": [
    "example = \"\"\"\n",
    "for i in range(1, 101):\n",
    "    if i % 3 == 0 and i % 5 == 0:\n",
    "        print(\"FizzBuzz\")\n",
    "    elif i % 3 == 0:\n",
    "        print(\"Fizz\")\n",
    "    elif i % 5 == 0:\n",
    "        print(\"Buzz\")\n",
    "    else:\n",
    "        print(i)\n",
    "\"\"\"\n",
    "print(re.findall(gpt2pat, example))"
   ]
  },
  {
   "cell_type": "code",
   "execution_count": null,
   "id": "95ef419c-62af-4ab4-9f9f-d75441da4b95",
   "metadata": {},
   "outputs": [],
   "source": [
    "import tiktoken\n",
    "encoder=tiktoken.get_encoding('gpt2')\n",
    "encoder.encode('धौलागिरी संसारकै सातौँ अग्लो हिमाल हो । जुन धौलागिरी हिमश्रृंखलाको पुर्वी भागतिर रहेको छ । जुन नेपाली हिमालयको मध्य भागतिर पर्दछ ।')"
   ]
  },
  {
   "cell_type": "code",
   "execution_count": null,
   "id": "6fdb554e-649a-4f7d-8e42-fa3829a4abf8",
   "metadata": {},
   "outputs": [],
   "source": [
    "list('कखगघ'.encode('utf-8'))"
   ]
  },
  {
   "cell_type": "code",
   "execution_count": null,
   "id": "e2908795-8fb3-4f82-b6ce-0aab6b912d1b",
   "metadata": {},
   "outputs": [],
   "source": [
    "list('क'.encode('utf-8'))"
   ]
  },
  {
   "cell_type": "code",
   "execution_count": 60,
   "id": "51ef2d3c-74f3-437d-ab92-28b7eb39551e",
   "metadata": {},
   "outputs": [
    {
     "name": "stdout",
     "output_type": "stream",
     "text": [
      "\\u000d\n"
     ]
    }
   ],
   "source": [
    "ch='\\r'\n",
    "print(f\"\\\\u{ord(ch):04x}\")"
   ]
  },
  {
   "cell_type": "code",
   "execution_count": 62,
   "id": "7b4b926a-6271-415e-8c8d-1cd409a58717",
   "metadata": {},
   "outputs": [
    {
     "data": {
      "text/plain": [
       "'\\r'"
      ]
     },
     "execution_count": 62,
     "metadata": {},
     "output_type": "execute_result"
    }
   ],
   "source": [
    "chr(13)"
   ]
  },
  {
   "cell_type": "markdown",
   "id": "c62c77b8-231f-47eb-91d2-13b0fa4efd83",
   "metadata": {},
   "source": [
    "# building own tokenizer\n"
   ]
  },
  {
   "cell_type": "code",
   "execution_count": 1,
   "id": "990f7a5f-221c-47e7-95a4-139a060b40a3",
   "metadata": {},
   "outputs": [],
   "source": [
    "from unicodedata import category\n",
    "\n",
    "def get_stats(ids):\n",
    "    counts={}\n",
    "    for pair in zip(ids,ids[1:]):\n",
    "        counts[pair]=counts.get(pair,0)+1\n",
    "    return counts\n",
    "\n",
    "def merge(tokens,pair,target):\n",
    "    newtokens=[]\n",
    "    i=0\n",
    "    while i < len(tokens):\n",
    "        if i<len(tokens)-1 and tokens[i]==pair[0] and tokens[i+1]==pair[1]:\n",
    "            newtokens.append(target)\n",
    "            i+=2\n",
    "        else:\n",
    "            newtokens.append(tokens[i])\n",
    "            i+=1\n",
    "    return newtokens    \n",
    "\n",
    "def replace_control_character(s):\n",
    "    out=[]\n",
    "    for ch in s:\n",
    "        if category(ch)[0]!='C':\n",
    "            out.append(ch)\n",
    "        else:\n",
    "            out.append(f'\\\\u{ord(ch):04x}')\n",
    "    return ''.join(out)\n",
    "\n",
    "def render_token(t):\n",
    "    s=t.decode('utf-8',errors='replace')\n",
    "    s=replace_control_character(s)\n",
    "    return t"
   ]
  },
  {
   "cell_type": "code",
   "execution_count": 86,
   "id": "bf64fc05-a2a0-4be1-b659-90623ddc83b7",
   "metadata": {},
   "outputs": [],
   "source": [
    "path='/Users/anmolchalise/Downloads/taylorswift.txt'\n",
    "text= open(path,'r',encoding='utf-8').read()\n",
    "tokenizer=basic_tokenizer()\n",
    "tokenizer.train(text,512)\n"
   ]
  },
  {
   "cell_type": "code",
   "execution_count": 87,
   "id": "6c1040d7-701e-4ee7-94cf-05cec152a62e",
   "metadata": {},
   "outputs": [
    {
     "data": {
      "text/plain": [
       "256"
      ]
     },
     "execution_count": 87,
     "metadata": {},
     "output_type": "execute_result"
    }
   ],
   "source": [
    "len(tokenizer.merges)"
   ]
  },
  {
   "cell_type": "code",
   "execution_count": 88,
   "id": "cf7be518-f4bc-4cfe-8174-08ce30a1d609",
   "metadata": {},
   "outputs": [
    {
     "name": "stdout",
     "output_type": "stream",
     "text": [
      "I am anmol chalise. I am currently studying computer engineering\n"
     ]
    }
   ],
   "source": [
    "print(tokenizer.decode(tokenizer.encode('I am anmol chalise. I am currently studying computer engineering')))"
   ]
  },
  {
   "cell_type": "code",
   "execution_count": 2,
   "id": "8aeddfb4-20f8-49dd-9c59-6ee9fd1a8cd6",
   "metadata": {},
   "outputs": [
    {
     "data": {
      "text/plain": [
       "'(<s>|</s>|<unk>|<pad>)'"
      ]
     },
     "execution_count": 2,
     "metadata": {},
     "output_type": "execute_result"
    }
   ],
   "source": [
    "import re\n",
    "special = ['<s>', '</s>', '<unk>', '<pad>']\n",
    "special_pattern = \"(\" + \"|\".join(re.escape(k) for k in special) + \")\"\n",
    "special_pattern"
   ]
  },
  {
   "cell_type": "code",
   "execution_count": 17,
   "id": "2429fe11-21a9-42d3-baa3-b7b27c229b7b",
   "metadata": {},
   "outputs": [
    {
     "data": {
      "text/plain": [
       "[49]"
      ]
     },
     "execution_count": 17,
     "metadata": {},
     "output_type": "execute_result"
    }
   ],
   "source": [
    "list('1'.encode('utf-8'))"
   ]
  },
  {
   "cell_type": "code",
   "execution_count": 24,
   "id": "e93f6cc0-ddc1-4747-9d20-1a864aaef129",
   "metadata": {},
   "outputs": [
    {
     "data": {
      "text/plain": [
       "'C'"
      ]
     },
     "execution_count": 24,
     "metadata": {},
     "output_type": "execute_result"
    }
   ],
   "source": [
    "b''.join([bytes([67])]).decode('utf-8')"
   ]
  },
  {
   "cell_type": "code",
   "execution_count": 26,
   "id": "c6c99e02-71f1-4c15-9f14-057a4bec21b9",
   "metadata": {},
   "outputs": [
    {
     "data": {
      "text/plain": [
       "'C'"
      ]
     },
     "execution_count": 26,
     "metadata": {},
     "output_type": "execute_result"
    }
   ],
   "source": [
    "bytes([67]).decode('utf-8')"
   ]
  },
  {
   "cell_type": "code",
   "execution_count": 69,
   "id": "cb21c91f-71e7-4c17-a563-9d435eae07b5",
   "metadata": {},
   "outputs": [
    {
     "data": {
      "text/plain": [
       "['a', '<|end|>', 'b']"
      ]
     },
     "execution_count": 69,
     "metadata": {},
     "output_type": "execute_result"
    }
   ],
   "source": [
    "import regex as re\n",
    "p=\"(<\\|end\\|>)\"\n",
    "re.split(p,'a<|end|>b')\n"
   ]
  },
  {
   "cell_type": "code",
   "execution_count": 1,
   "id": "403e412d-95a1-4d60-b0f3-e15060df5e9e",
   "metadata": {},
   "outputs": [
    {
     "data": {
      "text/plain": [
       "'(<\\\\|endoftext\\\\|>)'"
      ]
     },
     "execution_count": 1,
     "metadata": {},
     "output_type": "execute_result"
    }
   ],
   "source": [
    "import re\n",
    "special = {\n",
    "    '<|endoftext|>': 100257,\n",
    "    # '<|fim_prefix|>': 100258,\n",
    "    # '<|fim_middle|>': 100259,\n",
    "    # '<|fim_suffix|>': 100260,\n",
    "    # '<|endofprompt|>': 100276\n",
    "}\n",
    "# special_pattern = \"(\" + \"|\".join(re.escape(k) for k in special) + \")\"\n",
    "special_pattern='('+'|'.join(re.escape(k) for k in special)+')'\n",
    "special_pattern"
   ]
  },
  {
   "cell_type": "code",
   "execution_count": 51,
   "id": "769ab5f7-2ccc-498c-86e0-7bd243439f96",
   "metadata": {},
   "outputs": [
    {
     "data": {
      "text/plain": [
       "['<|endoftext|>', 'The llama (']"
      ]
     },
     "execution_count": 51,
     "metadata": {},
     "output_type": "execute_result"
    }
   ],
   "source": [
    "text = \"\"\"\n",
    "<|endoftext|>The llama (\"\"\".strip()\n",
    "special_chunks = re.split(special_pattern, text)\n",
    "special_chunks[1:]"
   ]
  },
  {
   "cell_type": "code",
   "execution_count": 4,
   "id": "8130701c-290c-4389-821b-37a5a04f51d8",
   "metadata": {},
   "outputs": [],
   "source": [
    "special_tokens = {\n",
    "    '<|endoftext|>': 100257,\n",
    "    '<|fim_prefix|>': 100258,\n",
    "    '<|fim_middle|>': 100259,\n",
    "    '<|fim_suffix|>': 100260,\n",
    "    '<|endofprompt|>': 100276\n",
    "}"
   ]
  },
  {
   "cell_type": "code",
   "execution_count": 19,
   "id": "35778de5-8caa-4d2c-93bc-48a489f1291a",
   "metadata": {},
   "outputs": [],
   "source": [
    "from unicodedata import category\n",
    "\n",
    "def get_stats(ids):\n",
    "    counts={}\n",
    "    for pair in zip(ids,ids[1:]):\n",
    "        counts[pair]=counts.get(pair,0)+1\n",
    "    return counts\n",
    "\n",
    "def merge(tokens,pair,target):\n",
    "    newtokens=[]\n",
    "    i=0\n",
    "    while i < len(tokens):\n",
    "        if i<len(tokens)-1 and tokens[i]==pair[0] and tokens[i+1]==pair[1]:\n",
    "            newtokens.append(target)\n",
    "            i+=2\n",
    "        else:\n",
    "            newtokens.append(tokens[i])\n",
    "            i+=1\n",
    "    return newtokens    \n",
    "\n",
    "def replace_control_character(s):\n",
    "    out=[]\n",
    "    for ch in s:\n",
    "        if category(ch)[0]!='C':\n",
    "            out.append(ch)\n",
    "        else:\n",
    "            out.append(f'\\\\u{ord(ch):04x}')\n",
    "    return ''.join(out)\n",
    "\n",
    "def render_token(t):\n",
    "    s=t.decode('utf-8',errors='replace')\n",
    "    s=replace_control_character(s)\n",
    "    return t\n",
    "\n",
    "\n",
    "class basic_tokenizer:\n",
    "    def __init__(self):\n",
    "        self.merges={}\n",
    "        self.vocab={}\n",
    "    \n",
    "    def train(self,text,vocab_size):\n",
    "        assert vocab_size>=256\n",
    "        num_iters=vocab_size-256\n",
    "        tokens=list(text.encode('utf-8'))\n",
    "        target=255\n",
    "        ids=list(tokens)\n",
    "        merges={}\n",
    "        vocab={index:bytes([index]) for index in range(256)}\n",
    "        for i in range(num_iters):\n",
    "            if len(ids)<2:\n",
    "                break\n",
    "            stats=get_stats(ids)\n",
    "            pair=max(stats,key=stats.get)\n",
    "            target=target+1\n",
    "            ids=merge(ids,pair,target)\n",
    "            merges[pair]=target\n",
    "            vocab[target]=vocab[pair[0]]+vocab[pair[1]]\n",
    "        self.merges=merges\n",
    "        self.vocab=vocab\n",
    "        \n",
    "    def encode(self,text):\n",
    "        tokens=list(text.encode('utf-8'))\n",
    "        ids=list(tokens)\n",
    "        while len(ids)>=2:\n",
    "            stats=get_stats(ids)\n",
    "            pair=min(stats,key = lambda p:self.merges.get(p,float('inf')))\n",
    "            if pair not in self.merges.keys():\n",
    "                break\n",
    "            target=self.merges[pair]\n",
    "            ids=merge(ids,pair,target)\n",
    "    \n",
    "        return ids\n",
    "    \n",
    "    def decode(self,t):\n",
    "        index_byte=b''.join(self.vocab[index] for index in t)\n",
    "        text=index_byte.decode('utf-8',errors='replace')\n",
    "        return text\n",
    "        \n",
    "    def save(self,file_name):\n",
    "        model_file=file_name+'.model'\n",
    "        with open(model_file,'w') as f:\n",
    "            f.write('Binary Pair Encodeing')\n",
    "            for idx1,idx2 in self.merges.keys():\n",
    "                f.write(f'{idx1,idx2}\\n')\n",
    "\n",
    "        vocab_file=file_name+'.vocab'\n",
    "        invert_merges={tokens:pair for pair,tokens in self.merges.items()}\n",
    "        with open(vocab_file,'w') as f:\n",
    "            for index,token in self.vocab.items():\n",
    "                chrs=render_token(token)\n",
    "                if index in invert_merges:\n",
    "                    idx0,idx1=invert_merges[index]\n",
    "                    chr0=render_token(self.vocab[idx0])\n",
    "                    chr1=render_token(self.vocab[idx1])\n",
    "                    f.write(f'{chr0} {chr1} -> {chrs}\\n')\n",
    "                else:\n",
    "                    f.write(f'{chrs}\\n')"
   ]
  },
  {
   "cell_type": "code",
   "execution_count": 20,
   "id": "387324fb-6181-41d1-9693-e604432ed8a3",
   "metadata": {},
   "outputs": [],
   "source": [
    "import regex as re\n",
    "from unicodedata import category\n",
    "\n",
    "gpt2pat = r\"\"\"'s|'t|'re|'ve|'m|'ll|'d| ?\\p{L}+| ?\\p{N}+| ?[^\\s\\p{L}\\p{N}]+|\\s+(?!\\S)|\\s+\"\"\"\n",
    "\n",
    "def get_stats(ids,counts=None):\n",
    "    counts={} if counts is None else counts\n",
    "    for pair in zip(ids,ids[1:]):\n",
    "        counts[pair]=counts.get(pair,0)+1\n",
    "    return counts\n",
    "\n",
    "def merge(tokens,pair,target):\n",
    "    newtokens=[]\n",
    "    i=0\n",
    "    while i < len(tokens):\n",
    "        if i<len(tokens)-1 and tokens[i]==pair[0] and tokens[i+1]==pair[1]:\n",
    "            newtokens.append(target)\n",
    "            i+=2\n",
    "        else:\n",
    "            newtokens.append(tokens[i])\n",
    "            i+=1\n",
    "    return newtokens \n",
    "\n",
    "def make_tokens(compiled_pattern,text):    #return tokenized chunks of text_chunks defined by re.findall()\n",
    "      text_chunk=re.findall(compiled_pattern, text)\n",
    "      tokens=[list(chunk.encode('utf-8')) for chunk in text_chunk]\n",
    "      return tokens\n",
    "\n",
    "def render(tokens):\n",
    "    t=tokens.decode('utf-8',errors='replace')\n",
    "    out=[]\n",
    "    for token in t:\n",
    "        if category(token)[0]!='C':\n",
    "            out.append(token)\n",
    "        else:\n",
    "            out.append(f'\\\\u{ord(token):04x}')\n",
    "    return ''.join(out)\n",
    "\n",
    "\n",
    "class special_tokenizer:\n",
    "    def __init__(self,pattern=None) -> None:\n",
    "        self.pattern=gpt2pat if pattern is  None else pattern\n",
    "        self.compiled_pattern=re.compile(self.pattern)\n",
    "        self.special_tokens={}\n",
    "        self.inverse_special_tokens={}\n",
    "        self.vocab={}\n",
    "        self.merges={}\n",
    "\n",
    "    def train(self,text,vocab_size) :\n",
    "        assert vocab_size>=256\n",
    "        num_iters=vocab_size-256\n",
    "        tokens=make_tokens(self.compiled_pattern,text)\n",
    "        ids=list(tokens)\n",
    "        merges = {} # (int, int) -> int\n",
    "        vocab={k:bytes([k]) for k in range(256)}\n",
    "        for i in range(num_iters):\n",
    "            stats = {}\n",
    "            for chunk_ids in ids:\n",
    "                get_stats(chunk_ids, stats)\n",
    "            pair = max(stats, key=stats.get)\n",
    "            idx = 256 + i\n",
    "            ids = [merge(chunk_ids, pair, idx) for chunk_ids in ids]\n",
    "            merges[pair] = idx\n",
    "            vocab[idx]=vocab[pair[0]]+vocab[pair[1]]\n",
    "        self.merges=merges\n",
    "        self.vocab=vocab\n",
    "\n",
    "    def register_special_tokens(self,s):\n",
    "        self.special_tokens=s\n",
    "        self.inverse_special_tokens={v:k for k,v in self.special_tokens.items()}\n",
    "\n",
    "    def decode(self,tokens):\n",
    "        bytes=[]\n",
    "        for token in tokens:\n",
    "            if token in self.vocab:\n",
    "                bytes.append(self.vocab[token])\n",
    "            elif token in self.special_tokens:\n",
    "                bytes.append(self.special_tokens[token].encode('utf-8'))\n",
    "            else:\n",
    "                raise ValueError('invalid token')\n",
    "        text_bytes=b''.join(bytes)\n",
    "        raw_text=text_bytes.decode('utf-8',errors='replace')\n",
    "        return raw_text\n",
    "    \n",
    "    def encode_chunk(self,chunk_tokens):\n",
    "        ids=list(chunk_tokens)\n",
    "        while len(ids)>=2:\n",
    "            stats=get_stats(ids)\n",
    "            pair=min(stats,key= lambda p: self.merges.get(p,float('inf')))\n",
    "            if pair not in self.merges:\n",
    "                break\n",
    "            target=self.merges[pair]\n",
    "            ids=merge(ids,pair,target)\n",
    "        \n",
    "        return ids\n",
    "\n",
    "    def encode_ordinary_text(self,text):\n",
    "        tokens=make_tokens(self.compiled_pattern,text)\n",
    "        ids=[]\n",
    "        for chunk_token in tokens:\n",
    "            ids.extend(self.encode_chunk(chunk_token))\n",
    "        return ids\n",
    "        \n",
    "    def encode(self,text,allowed_special=None):\n",
    "        special=None\n",
    "        if allowed_special=='all':\n",
    "            special=self.special_tokens\n",
    "        else:\n",
    "            raise ValueError(f'allowed special type  {allowed_special} : Not understood')\n",
    "        \n",
    "        if not special:\n",
    "            return self.encode_ordinary_text(text)\n",
    "        \n",
    "        special_pattern='('+'|'.join(re.escape(k) for k in special)+')'\n",
    "\n",
    "        ## suppose i am using <|end|> as my special token then it will o/p <\\\\|end\\\\|>\n",
    "        # The result is due to re.escape that escapes(puts backslash) characters like '|','.','$', and so on\n",
    "        # furtermore it is essential because these patterns are using for splitting special tokens from text\n",
    "        #the use of parenthesis is that re.split that we will use in next loc return the pattern too when pattern\n",
    "        #is defined inside parenthesis\n",
    "        ids=[]\n",
    "        chunks=re.split(special_pattern,text)\n",
    "        for chunk in chunks:\n",
    "            if chunk in special:\n",
    "                ids.append(special[chunk])\n",
    "            else:\n",
    "                ids.extend(self.encode_ordinary_text(chunk))\n",
    "        return ids\n",
    "        \n",
    "    def save(self,filename):\n",
    "        model_file=filename+'.model'\n",
    "        with open(model_file,'w',encoding='utf-8') as f:\n",
    "                f.write('special tokens\\n')\n",
    "                f.write(f'{self.compiled_pattern}\\n')\n",
    "                f.write(f'{len(self.special_tokens)}\\n')\n",
    "                for token in self.special_tokens:\n",
    "                    f.write(f'{token} {self.special_tokens[token]}\\n')\n",
    "                f.write('merged indices\\n')\n",
    "                for index in self.merges:\n",
    "                    f.write(f'{index[0]} {index[1]}\\n')\n",
    "                    \n",
    "        vocab_file=filename+'.vocab'\n",
    "        invert_merges={v:k for k,v in self.merges.items()}\n",
    "        with open(vocab_file,'w',encoding='utf-8') as f:\n",
    "            for index,token in self.vocab.items():\n",
    "                ch=render(token)\n",
    "                if index in invert_merges:\n",
    "                    p0,p1=invert_merges[index]\n",
    "                    ch0=render(self.vocab[p0])\n",
    "                    ch1=render(self.vocab[p1])\n",
    "                    f.write(f'{ch0}+{ch1}->{ch}\\n')\n",
    "                else:\n",
    "                    f.write(f'{ch}\\n')\n",
    "                    \n",
    "    def load(self,file_name):\n",
    "        model_file=file_name+'.model'\n",
    "        special,merges={},{}\n",
    "        idx=256\n",
    "        assert model_file=='special_tokenizer.model'\n",
    "        with open(model_file,'r') as f:\n",
    "            type=f.readline().strip()\n",
    "            assert type=='special tokens'\n",
    "            pattern=f.readline().strip()\n",
    "            num_iters=f.readline().strip()\n",
    "            for i in range(int(num_iters)):\n",
    "                token,id=f.readline().strip().split(' ')\n",
    "            type=f.readline().strip()\n",
    "            assert type=='merged indices'\n",
    "            for indices in f:\n",
    "                idx0,idx1=map(int,indices.split())\n",
    "                merges[idx0,idx1]=idx\n",
    "                idx+=1\n",
    "        self.merges=merges\n",
    "        self.pattern=pattern\n",
    "                \n",
    "            "
   ]
  },
  {
   "cell_type": "code",
   "execution_count": 21,
   "id": "f6de5e69-a957-4a7c-93ea-e8148ff40b2c",
   "metadata": {},
   "outputs": [],
   "source": [
    "path='/Users/anmolchalise/Downloads/taylorswift.txt'\n",
    "text= open(path,'r',encoding='utf-8').read()\n",
    "# tokenizer=special_tokenizer()\n",
    "# tokenizer.train(text,512)\n",
    "# tokenizer.register_special_tokens(special_tokens)\n",
    "# tokenizer.save('special_tokenizer')\n",
    "# text= open('taylorswift.txt','r',encoding='utf-8').read()\n",
    "for tokenizer_name,name in zip([basic_tokenizer,special_tokenizer],['basic_2','special']):\n",
    "    tokenizer=tokenizer_name()\n",
    "    tokenizer.train(text,512)\n",
    "    tokenizer.save(name)\n"
   ]
  },
  {
   "cell_type": "code",
   "execution_count": 86,
   "id": "574c9891-3c3d-4879-9577-9ec8a8db1c4c",
   "metadata": {},
   "outputs": [
    {
     "name": "stdout",
     "output_type": "stream",
     "text": [
      "I am anmol chalise. I am currently studying computer engineering\n"
     ]
    }
   ],
   "source": [
    "print(tokenizer.decode(tokenizer.encode_ordinary_text('I am anmol chalise. I am currently studying computer engineering')))"
   ]
  },
  {
   "cell_type": "code",
   "execution_count": 87,
   "id": "70ac1e81-cfab-4be6-89c1-fa2d2e6e0e07",
   "metadata": {},
   "outputs": [
    {
     "data": {
      "text/plain": [
       "256"
      ]
     },
     "execution_count": 87,
     "metadata": {},
     "output_type": "execute_result"
    }
   ],
   "source": [
    "len(tokenizer.merges)"
   ]
  },
  {
   "cell_type": "code",
   "execution_count": 89,
   "id": "22e13f16-bd75-43f3-9967-fdd71ba798ed",
   "metadata": {},
   "outputs": [],
   "source": [
    "file_name='special_tokenizer.model'\n",
    "with open(file_name,'w',encoding='utf-8') as f:\n",
    "    for index in tokenizer.merges:\n",
    "        f.write(f'{index[0]} {index[1]}\\n')"
   ]
  },
  {
   "cell_type": "code",
   "execution_count": 163,
   "id": "5e4ecf7e-b079-4c4e-9cec-d7d14129f67d",
   "metadata": {},
   "outputs": [
    {
     "name": "stdout",
     "output_type": "stream",
     "text": [
      "\\u0000\n",
      "\\u0001\n",
      "\\u0002\n",
      "\\u0003\n",
      "\\u0004\n",
      "\\u0005\n",
      "\\u0006\n",
      "\\u0007\n",
      "\\u0008\n",
      "\\u0009\n",
      "\\u000a\n",
      "\\u000b\n",
      "\\u000c\n",
      "\\u000d\n",
      "\\u000e\n",
      "\\u000f\n",
      "\\u0010\n",
      "\\u0011\n",
      "\\u0012\n",
      "\\u0013\n",
      "\\u0014\n",
      "\\u0015\n",
      "\\u0016\n",
      "\\u0017\n",
      "\\u0018\n",
      "\\u0019\n",
      "\\u001a\n",
      "\\u001b\n",
      "\\u001c\n",
      "\\u001d\n",
      "\\u001e\n",
      "\\u001f\n",
      " \n",
      "!\n",
      "\"\n",
      "#\n",
      "$\n",
      "%\n",
      "&\n",
      "'\n",
      "(\n",
      ")\n",
      "*\n",
      "+\n",
      ",\n",
      "-\n",
      ".\n",
      "/\n",
      "0\n",
      "1\n",
      "2\n",
      "3\n",
      "4\n",
      "5\n",
      "6\n",
      "7\n",
      "8\n",
      "9\n",
      ":\n",
      ";\n",
      "<\n",
      "=\n",
      ">\n",
      "?\n",
      "@\n",
      "A\n",
      "B\n",
      "C\n",
      "D\n",
      "E\n",
      "F\n",
      "G\n",
      "H\n",
      "I\n",
      "J\n",
      "K\n",
      "L\n",
      "M\n",
      "N\n",
      "O\n",
      "P\n",
      "Q\n",
      "R\n",
      "S\n",
      "T\n",
      "U\n",
      "V\n",
      "W\n",
      "X\n",
      "Y\n",
      "Z\n",
      "[\n",
      "\\\n",
      "]\n",
      "^\n",
      "_\n",
      "`\n",
      "a\n",
      "b\n",
      "c\n",
      "d\n",
      "e\n",
      "f\n",
      "g\n",
      "h\n",
      "i\n",
      "j\n",
      "k\n",
      "l\n",
      "m\n",
      "n\n",
      "o\n",
      "p\n",
      "q\n",
      "r\n",
      "s\n",
      "t\n",
      "u\n",
      "v\n",
      "w\n",
      "x\n",
      "y\n",
      "z\n",
      "{\n",
      "|\n",
      "}\n",
      "~\n",
      "\\u007f\n",
      "�\n",
      "�\n",
      "�\n",
      "�\n",
      "�\n",
      "�\n",
      "�\n",
      "�\n",
      "�\n",
      "�\n",
      "�\n",
      "�\n",
      "�\n",
      "�\n",
      "�\n",
      "�\n",
      "�\n",
      "�\n",
      "�\n",
      "�\n",
      "�\n",
      "�\n",
      "�\n",
      "�\n",
      "�\n",
      "�\n",
      "�\n",
      "�\n",
      "�\n",
      "�\n",
      "�\n",
      "�\n",
      "�\n",
      "�\n",
      "�\n",
      "�\n",
      "�\n",
      "�\n",
      "�\n",
      "�\n",
      "�\n",
      "�\n",
      "�\n",
      "�\n",
      "�\n",
      "�\n",
      "�\n",
      "�\n",
      "�\n",
      "�\n",
      "�\n",
      "�\n",
      "�\n",
      "�\n",
      "�\n",
      "�\n",
      "�\n",
      "�\n",
      "�\n",
      "�\n",
      "�\n",
      "�\n",
      "�\n",
      "�\n",
      "�\n",
      "�\n",
      "�\n",
      "�\n",
      "�\n",
      "�\n",
      "�\n",
      "�\n",
      "�\n",
      "�\n",
      "�\n",
      "�\n",
      "�\n",
      "�\n",
      "�\n",
      "�\n",
      "�\n",
      "�\n",
      "�\n",
      "�\n",
      "�\n",
      "�\n",
      "�\n",
      "�\n",
      "�\n",
      "�\n",
      "�\n",
      "�\n",
      "�\n",
      "�\n",
      "�\n",
      "�\n",
      "�\n",
      "�\n",
      "�\n",
      "�\n",
      "�\n",
      "�\n",
      "�\n",
      "�\n",
      "�\n",
      "�\n",
      "�\n",
      "�\n",
      "�\n",
      "�\n",
      "�\n",
      "�\n",
      "�\n",
      "�\n",
      "�\n",
      "�\n",
      "�\n",
      "�\n",
      "�\n",
      "�\n",
      "�\n",
      "�\n",
      "�\n",
      "�\n",
      "�\n",
      "�\n",
      "�\n",
      "�\n",
      "  + 2 ->  2\n",
      "e + r -> er\n",
      "o + r -> or\n",
      " 2 + 0 ->  20\n",
      "i + n -> in\n",
      "e + d -> ed\n",
      "  + t ->  t\n",
      "o + n -> on\n",
      "h + e -> he\n",
      "  + S ->  S\n",
      "a + r -> ar\n",
      "a + n -> an\n",
      "  + A ->  A\n",
      " t + he ->  the\n",
      "a + l -> al\n",
      "r + i -> ri\n",
      "v + ed -> ved\n",
      "s + t -> st\n",
      "w + i -> wi\n",
      "  + R ->  R\n",
      "  + f ->  f\n",
      "  + T ->  T\n",
      "f + t -> ft\n",
      " 20 + 1 ->  201\n",
      " 20 + 2 ->  202\n",
      "a + y -> ay\n",
      "  + \" ->  \"\n",
      "wi + ft -> wift\n",
      "e + t -> et\n",
      "  + 1 ->  1\n",
      " S + wift ->  Swift\n",
      "c + h -> ch\n",
      "b + er -> ber\n",
      "a + t -> at\n",
      "o + m -> om\n",
      "e + s -> es\n",
      "e + n -> en\n",
      "e + m -> em\n",
      "\" + . -> \".\n",
      "  + ( ->  (\n",
      "in + g -> ing\n",
      "l + or -> lor\n",
      "  + M ->  M\n",
      "i + g -> ig\n",
      "  + on ->  on\n",
      "ay + lor -> aylor\n",
      "l + l -> ll\n",
      "ri + e -> rie\n",
      " R + et ->  Ret\n",
      " Ret + rie ->  Retrie\n",
      " Retrie + ved ->  Retrieved\n",
      "  + s ->  s\n",
      "i + c -> ic\n",
      "an + d -> and\n",
      "o + u -> ou\n",
      "e + c -> ec\n",
      "  + a ->  a\n",
      ") + . -> ).\n",
      "r + om -> rom\n",
      "  + B ->  B\n",
      "em + ber -> ember\n",
      "  + o ->  o\n",
      " f + rom ->  from\n",
      " A + r ->  Ar\n",
      "  + and ->  and\n",
      "  + C ->  C\n",
      "  + N ->  N\n",
      "  + or ->  or\n",
      "ch + i -> chi\n",
      "  + J ->  J\n",
      "in + al -> inal\n",
      " or + ig ->  orig\n",
      " orig + inal ->  original\n",
      " Ar + chi ->  Archi\n",
      " Archi + ved ->  Archived\n",
      " o + f ->  of\n",
      "  + h ->  h\n",
      "  + in ->  in\n",
      "r + e -> re\n",
      "T + aylor -> Taylor\n",
      "i + t -> it\n",
      "a + s -> as\n",
      "  + p ->  p\n",
      "i + on -> ion\n",
      "  + D ->  D\n",
      "  + w ->  w\n",
      "ar + d -> ard\n",
      "i + ll -> ill\n",
      "' + s -> 's\n",
      "  + m ->  m\n",
      "  + F ->  F\n",
      "  + W ->  W\n",
      "l + e -> le\n",
      " t + o ->  to\n",
      "  + c ->  c\n",
      ". + [ -> .[\n",
      "o + v -> ov\n",
      "l + y -> ly\n",
      " 202 + 3 ->  2023\n",
      "u + s -> us\n",
      "  + H ->  H\n",
      "i + s -> is\n",
      "  + P ->  P\n",
      "t + h -> th\n",
      "c + t -> ct\n",
      "u + m -> um\n",
      "  + b ->  b\n",
      "  + G ->  G\n",
      "ar + y -> ary\n",
      "  + I ->  I\n",
      " T + aylor ->  Taylor\n",
      "i + st -> ist\n",
      "  + d ->  d\n",
      "a + m -> am\n",
      "  + O ->  O\n",
      "o + p -> op\n",
      " J + u ->  Ju\n",
      " h + er ->  her\n",
      "  + L ->  L\n",
      "u + st -> ust\n",
      "a + d -> ad\n",
      " T + he ->  The\n",
      "u + ary -> uary\n",
      "en + t -> ent\n",
      "us + ic -> usic\n",
      "ov + ember -> ovember\n",
      "e + w -> ew\n",
      "er + s -> ers\n",
      "ar + t -> art\n",
      "i + d -> id\n",
      "  + E ->  E\n",
      "e + l -> el\n",
      "on + g -> ong\n",
      "i + m -> im\n",
      "o + ber -> ober\n",
      "e + p -> ep\n",
      " 202 + 2 ->  2022\n",
      " f + or ->  for\n",
      "ct + ober -> ctober\n",
      "b + o -> bo\n",
      " B + ill ->  Bill\n",
      "ec + ember -> ecember\n",
      " S + t ->  St\n",
      "bo + ard -> board\n",
      "o + w -> ow\n",
      "u + g -> ug\n",
      "o + t -> ot\n",
      " Bill + board ->  Billboard\n",
      "n + t -> nt\n",
      "n + e -> ne\n",
      "e + ar -> ear\n",
      "ou + r -> our\n",
      "ri + t -> rit\n",
      "i + r -> ir\n",
      " 202 + 1 ->  2021\n",
      "b + um -> bum\n",
      "u + r -> ur\n",
      "at + ion -> ation\n",
      "o + l -> ol\n",
      "es + s -> ess\n",
      " 202 + 0 ->  2020\n",
      "  + r ->  r\n",
      "] + [ -> ][\n",
      "ug + ust -> ugust\n",
      "  + V ->  V\n",
      "  + ' ->  '\n",
      "e + b -> eb\n",
      " 20 + 0 ->  200\n",
      " 201 + 2 ->  2012\n",
      "  + al ->  al\n",
      "i + v -> iv\n",
      "  + Y ->  Y\n",
      "u + t -> ut\n",
      "  + wi ->  wi\n",
      "r + y -> ry\n",
      "  + 3 ->  3\n",
      "2 + 0 -> 20\n",
      "e + st -> est\n",
      " wi + th ->  with\n",
      " 201 + 9 ->  2019\n",
      "r + a -> ra\n",
      " D + ecember ->  December\n",
      " N + ovember ->  November\n",
      " 1 + 0 ->  10\n",
      "  + at ->  at\n",
      "  + re ->  re\n",
      " Ju + ly ->  July\n",
      " 201 + 6 ->  2016\n",
      " t + h ->  th\n",
      "  + n ->  n\n",
      " A + ugust ->  August\n",
      "or + d -> ord\n",
      "w + ard -> ward\n",
      "  + K ->  K\n",
      " O + ctober ->  October\n",
      " 201 + 5 ->  2015\n",
      "  + l ->  l\n",
      "o + ll -> oll\n",
      "p + ri -> pri\n",
      "u + l -> ul\n",
      "ep + t -> ept\n",
      " M + usic ->  Music\n",
      "  + U ->  U\n",
      "o + s -> os\n",
      "eb + r -> ebr\n",
      " a + s ->  as\n",
      "n + d -> nd\n",
      ", + [ -> ,[\n",
      "ebr + uary -> ebruary\n",
      " N + ew ->  New\n",
      "  + st ->  st\n",
      "o + d -> od\n",
      "a + k -> ak\n",
      "pri + l -> pril\n",
      "ou + nt -> ount\n",
      " C + h ->  Ch\n",
      "c + e -> ce\n",
      "ept + ember -> eptember\n",
      " al + bum ->  album\n",
      "i + l -> il\n",
      " A + ward ->  Award\n",
      "ec + ord -> ecord\n",
      "an + uary -> anuary\n",
      "ount + ry -> ountry\n",
      "m + er -> mer\n",
      "on + e -> one\n",
      "  + g ->  g\n",
      "ar + ch -> arch\n",
      "o + c -> oc\n",
      "ec + t -> ect\n",
      "i + a -> ia\n",
      "v + er -> ver\n",
      "� + � -> �\n",
      " S + he ->  She\n",
      " M + ay ->  May\n",
      " A + l ->  Al\n",
      " Ju + ne ->  June\n",
      " m + usic ->  music\n",
      " T + im ->  Tim\n",
      "iv + e -> ive\n",
      " F + ebruary ->  February\n",
      "e + e -> ee\n",
      "i + an -> ian\n",
      " 1 + 9 ->  19\n",
      "mer + ic -> meric\n",
      " S + eptember ->  September\n",
      " s + ing ->  sing\n",
      "  + v ->  v\n",
      " w + as ->  was\n",
      " A + pril ->  April\n",
      " 201 + 7 ->  2017\n",
      " 1 + 3 ->  13\n",
      "o + g -> og\n",
      "w + rit -> writ\n",
      "N + ovember -> November\n",
      " s + ong ->  song\n"
     ]
    }
   ],
   "source": [
    "file_name='special_tokenizer.vocab'\n",
    "inverted_merges={v:k for k,v in tokenizer.merges.items()}\n",
    "for index,token in tokenizer.vocab.items():\n",
    "    if index<256:\n",
    "        print(render(token))\n",
    "    else:\n",
    "        (p0,p1)=inverted_merges[index]\n",
    "        ch0=render(tokenizer.vocab[p0])\n",
    "        ch1=render(tokenizer.vocab[p1])\n",
    "        ch=render(token)\n",
    "        print(ch0,'+',ch1,'->',ch)"
   ]
  },
  {
   "cell_type": "code",
   "execution_count": 145,
   "id": "2969aa82-718a-4d96-a444-32e55053e13f",
   "metadata": {},
   "outputs": [
    {
     "name": "stdout",
     "output_type": "stream",
     "text": [
      "\u0000\n"
     ]
    }
   ],
   "source": [
    "token=bytes([0])\n",
    "print(token.decode('utf-8'))"
   ]
  },
  {
   "cell_type": "code",
   "execution_count": 158,
   "id": "ae6cca0b-2acd-4970-9152-075db04f7a2d",
   "metadata": {},
   "outputs": [
    {
     "name": "stdout",
     "output_type": "stream",
     "text": [
      "Cc\n",
      "0\n"
     ]
    }
   ],
   "source": [
    "from unicodedata import category\n",
    "token=bytes([0]).decode('utf-8')\n",
    "print(category(token))\n",
    "print(ord(token))"
   ]
  },
  {
   "cell_type": "code",
   "execution_count": 151,
   "id": "0c115834-ab83-47fd-9a5a-2f07af4c09aa",
   "metadata": {},
   "outputs": [
    {
     "data": {
      "text/plain": [
       "'\\x00'"
      ]
     },
     "execution_count": 151,
     "metadata": {},
     "output_type": "execute_result"
    }
   ],
   "source": [
    "chr(0)"
   ]
  },
  {
   "cell_type": "code",
   "execution_count": 184,
   "id": "f3f04d9b-9a7e-4360-8c24-2106890c5eec",
   "metadata": {},
   "outputs": [],
   "source": [
    "a,b=[],[]"
   ]
  },
  {
   "cell_type": "code",
   "execution_count": 221,
   "id": "b1dcc0f8-554f-488b-99f5-6ec3b15097ee",
   "metadata": {},
   "outputs": [
    {
     "name": "stdout",
     "output_type": "stream",
     "text": [
      "1 2\n",
      "\n",
      "3 4\n"
     ]
    }
   ],
   "source": [
    "p=1\n",
    "a={}\n",
    "with open('eg.txt','r') as f:\n",
    "    for i in range(2):\n",
    "        token,id=f.readline().split(' ')\n",
    "        # a[token,id]=p\n",
    "        # p+=1\n",
    "        print(token,id)\n",
    "        # print(tuple(i.strip().split(' ')))\n",
    "    #     a[i.strip().split(' ')]=p\n",
    "    # print(a)"
   ]
  },
  {
   "cell_type": "code",
   "execution_count": null,
   "id": "28574ad7-967a-41f9-b5f6-158c39848df4",
   "metadata": {},
   "outputs": [],
   "source": []
  }
 ],
 "metadata": {
  "kernelspec": {
   "display_name": "Python 3 (ipykernel)",
   "language": "python",
   "name": "python3"
  },
  "language_info": {
   "codemirror_mode": {
    "name": "ipython",
    "version": 3
   },
   "file_extension": ".py",
   "mimetype": "text/x-python",
   "name": "python",
   "nbconvert_exporter": "python",
   "pygments_lexer": "ipython3",
   "version": "3.11.2"
  }
 },
 "nbformat": 4,
 "nbformat_minor": 5
}
